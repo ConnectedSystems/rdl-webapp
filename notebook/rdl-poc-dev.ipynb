{
 "cells": [
  {
   "cell_type": "code",
   "execution_count": null,
   "metadata": {},
   "outputs": [],
   "source": [
    "from IPython.display import display, HTML\n",
    "from ipywidgets import widgets, Layout, GridspecLayout, AppLayout\n",
    "\n",
    "import ipyaggrid\n",
    "from ipyaggrid import Grid"
   ]
  },
  {
   "cell_type": "code",
   "execution_count": null,
   "metadata": {},
   "outputs": [],
   "source": [
    "import numpy as np\n",
    "import pandas as pd\n",
    "import json\n",
    "import requests\n",
    "\n",
    "from ipyleaflet import (Map, basemaps, basemap_to_tiles, ImageOverlay, WMSLayer,\n",
    "                        projections, GeoData, LayerGroup, LayersControl, WidgetControl)"
   ]
  },
  {
   "cell_type": "code",
   "execution_count": null,
   "metadata": {},
   "outputs": [],
   "source": [
    "rid = 20\n",
    "\n",
    "try:\n",
    "    extent = requests.get(url=f\"http://localhost:9090/api/v1/hazard/raster/extent/{rid}\")\n",
    "except requests.ConnectionError:\n",
    "    display(\"Initial API call failed - is the API up?\")\n",
    "    # exit\n",
    "\n",
    "if extent.status_code == 500:\n",
    "    # try again\n",
    "    extent = requests.get(url=f\"http://localhost:9090/api/v1/hazard/raster/extent/{rid}\")\n",
    "\n",
    "bounds = json.loads(extent.json())"
   ]
  },
  {
   "cell_type": "code",
   "execution_count": null,
   "metadata": {},
   "outputs": [],
   "source": [
    "m = Map(center=(-5,40), zoom=4, \n",
    "        # basemap=basemaps.Gaode.Satellite)\n",
    "        basemap=basemaps.Stamen.Watercolor)\n",
    "\n",
    "# control = LayersControl(position='topright')\n",
    "# m.add_control(control)"
   ]
  },
  {
   "cell_type": "code",
   "execution_count": null,
   "metadata": {},
   "outputs": [],
   "source": [
    "api_img = ImageOverlay(\n",
    "    name='api_test',\n",
    "    url=f'http://localhost:9090/api/v1/hazard/raster/{rid}',\n",
    "    bounds=bounds,\n",
    "    opacity=0.9\n",
    ")\n",
    "\n",
    "m.add_layer(api_img)"
   ]
  },
  {
   "cell_type": "code",
   "execution_count": null,
   "metadata": {},
   "outputs": [],
   "source": [
    "# Add custom controls via WidgetControl?\n",
    "# https://ipyleaflet.readthedocs.io/en/latest/api_reference/widget_control.html\n",
    "\n",
    "# Or display DataFrame as table \n",
    "# https://stackoverflow.com/a/29665452/2694952\n",
    "\n",
    "# Need some way of linking an \"on-click\" or \"on-select\" event on the table to the map...\n",
    "# https://medium.com/swlh/how-to-use-mouse-events-on-ipyleaflet-4d002097efc0\n",
    "\n",
    "# On select event for aggrid\n",
    "# https://ag-grid.com/documentation/javascript/row-selection/#selection-events\n",
    "\n",
    "# Ipyvuetify might be an alternative...\n",
    "# https://github.com/mariobuikhuizen/ipyvuetify/issues/71#issue-630953624\n",
    "# https://github.com/mariobuikhuizen/ipyvuetify\n",
    "# jupyter labextension install jupyter-vuetify\n",
    "\n",
    "# Cache API calls\n",
    "# https://technology.amis.nl/data-analytics/jupyter-notebook-for-retrieving-json-data-from-rest-apis/\n",
    "\n",
    "# Useful Aggrid resources\n",
    "# https://dgothrek.gitlab.io/ipyaggrid/guide/customize.html#custom-buttons\n",
    "# https://hub.gke2.mybinder.org/user/dgothrek-ipyaggrid-hx37qvp0/notebooks/demo-ipyaggrid-customize.ipynb#Building-custom-buttons\n",
    "# "
   ]
  },
  {
   "cell_type": "code",
   "execution_count": null,
   "metadata": {},
   "outputs": [],
   "source": [
    "df = pd.DataFrame({\n",
    "    'Name': ['Data name', 'Some other name'],\n",
    "    'Info': ['some metadata', 'some other metadata'],\n",
    "    '-': ['Download' for i in range(2)]\n",
    "})\n",
    "\n",
    "\n",
    "data_list = requests.get(url=f\"http://localhost:9090/api/v1/poc/available-data\")\n",
    "if data_list.status_code == 200:\n",
    "    available_rasters = pd.read_json(data_list.json())\n",
    "else:\n",
    "    raise ValueError(\"Data unavailable...\")"
   ]
  },
  {
   "cell_type": "code",
   "execution_count": null,
   "metadata": {},
   "outputs": [],
   "source": [
    "grid_options = {\n",
    "    'enableSorting': True,\n",
    "    'enableFilter': True,\n",
    "    'enableColResize': True,\n",
    "    'enableRangeSelection': True,\n",
    "    'rowSelection': 'multiple',\n",
    "    'defaultColDef': {\n",
    "        'resizable': 'true',\n",
    "        'suppressRowClickSelection': 'true'\n",
    "    },\n",
    "    'columnDefs': [\n",
    "        {\n",
    "            'headerName': \"Download\", \n",
    "            'field': \"RasterID\", \n",
    "            'checkboxSelection': True,\n",
    "            'sortable': False,\n",
    "            'width': 30,\n",
    "            'valueFormatter': \"function(params) { return ''; }\"\n",
    "        },\n",
    "        {\n",
    "            'headerName': \"Filename\",\n",
    "            'field': \"filename\",\n",
    "            'floatingFilter': True\n",
    "        }\n",
    "    ]\n",
    "}\n",
    "\n",
    "table_opts = {\n",
    "    'quick_filter': True,\n",
    "}"
   ]
  },
  {
   "cell_type": "code",
   "execution_count": null,
   "metadata": {},
   "outputs": [],
   "source": [
    "deselect_action = \"\"\"\n",
    "gridOptions.api.deselectAll();\n",
    "\"\"\"\n",
    "\n",
    "download_action = \"\"\"\n",
    "let selectedNodes = gridOptions.api.getSelectedRows();\n",
    "let x = selectedNodes.map(row => {return row.RasterID});\n",
    "if (x.length == 0) {\n",
    " // nothing selected so do nothing\n",
    " return\n",
    "}\n",
    "console.log(\"Downloading rasters...\");\n",
    "console.log(x);\n",
    "\n",
    "let d_url = 'http://localhost:9090/api/v1/hazard/raster/download/'+x.toString();\n",
    "\n",
    "var d_link = document.createElement(\"a\");\n",
    "d_link.href = d_url;\n",
    "d_link.sandbox = \"allow-downloads\";\n",
    "d_link.setAttribute(\"download\", \"rdl_hazard_download.zip\");\n",
    "d_link.target = \"_parent\";\n",
    "\n",
    "document.body.appendChild(d_link);\n",
    "d_link.click();\n",
    "document.body.removeChild(d_link);\n",
    "\"\"\"\n",
    "\n",
    "buttons = [\n",
    "    {\n",
    "        'name': 'Deselect All',\n",
    "        'action': deselect_action\n",
    "    },\n",
    "    {\n",
    "        'name': 'Download Selected',\n",
    "         'action': download_action\n",
    "    },\n",
    "]"
   ]
  },
  {
   "cell_type": "code",
   "execution_count": null,
   "metadata": {},
   "outputs": [],
   "source": [
    "iactive_df = Grid(\n",
    "    grid_data=available_rasters, \n",
    "    grid_options=grid_options,\n",
    "    menu={'buttons':buttons},\n",
    "    **table_opts\n",
    ")"
   ]
  },
  {
   "cell_type": "code",
   "execution_count": null,
   "metadata": {},
   "outputs": [],
   "source": [
    "# gs = AppLayout(header=m,\n",
    "#           left_sidebar=m,\n",
    "#           center=None,\n",
    "#           right_sidebar=None,\n",
    "#           footer=iactive_df)\n",
    "# gs\n",
    "\n",
    "grid = GridspecLayout(20, 10)\n",
    "# fill it in with widgets\n",
    "grid[1:, 0:3] = m\n",
    "grid[1:, 3:] = iactive_df\n",
    "\n",
    "# set the widget properties\n",
    "grid[1:, 0].layout.height = '100%'\n",
    "# grid[5, 1].layout.height = 'auto'\n",
    "\n",
    "display(grid)"
   ]
  },
  {
   "cell_type": "code",
   "execution_count": null,
   "metadata": {},
   "outputs": [],
   "source": []
  }
 ],
 "metadata": {
  "kernelspec": {
   "display_name": "Python (rdl-webapp)",
   "language": "python",
   "name": "rdl-webapp"
  },
  "language_info": {
   "codemirror_mode": {
    "name": "ipython",
    "version": 3
   },
   "file_extension": ".py",
   "mimetype": "text/x-python",
   "name": "python",
   "nbconvert_exporter": "python",
   "pygments_lexer": "ipython3",
   "version": "3.8.0"
  }
 },
 "nbformat": 4,
 "nbformat_minor": 4
}
